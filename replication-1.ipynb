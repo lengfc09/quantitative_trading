{
 "cells": [
  {
   "cell_type": "code",
   "execution_count": 2,
   "metadata": {},
   "outputs": [],
   "source": [
    "import matplotlib.pyplot as plt\n",
    "import numpy as np\n",
    "from arch import arch_model\n",
    "from statsmodels.graphics.tsaplots import plot_acf, plot_pacf\n",
    "import pandas as pd\n",
    "import scipy.stats as stats\n",
    "import datetime as dt\n",
    "import statsmodels.api as sm\n",
    "# test"
   ]
  },
  {
   "cell_type": "code",
   "execution_count": 26,
   "metadata": {},
   "outputs": [],
   "source": [
    "x1=pd.read_excel(\"qmj.xlsx\",sheet_name=\"QMJ Factors\",skiprows=18)"
   ]
  },
  {
   "cell_type": "code",
   "execution_count": 27,
   "metadata": {},
   "outputs": [],
   "source": [
    "x2=pd.read_excel(\"qmj.xlsx\",sheet_name=\"MKT\",skiprows=18)"
   ]
  },
  {
   "cell_type": "code",
   "execution_count": 38,
   "metadata": {},
   "outputs": [],
   "source": [
    "x3=pd.read_excel(\"qmj.xlsx\",sheet_name=\"SMB\",skiprows=18)\n",
    "x4=pd.read_excel(\"qmj.xlsx\",sheet_name=\"HML FF\",skiprows=18)\n",
    "x5=pd.read_excel(\"qmj.xlsx\",sheet_name=\"UMD\",skiprows=18)"
   ]
  },
  {
   "cell_type": "code",
   "execution_count": 43,
   "metadata": {},
   "outputs": [],
   "source": [
    "x1=x1[['DATE',\"USA\"]]\n",
    "x1.rename(columns={\"USA\":\"QMJ\"},inplace=True)\n",
    "x2=x2[['DATE',\"USA\"]]\n",
    "x2.rename(columns={\"USA\":\"MKT\"},inplace=True)\n",
    "x3=x3[['DATE',\"USA\"]]\n",
    "x3.rename(columns={\"USA\":\"SMB\"},inplace=True)\n",
    "x4=x4[['DATE',\"USA\"]]\n",
    "x4.rename(columns={\"USA\":\"HML\"},inplace=True)\n",
    "x5=x5[['DATE',\"USA\"]]\n",
    "x5.rename(columns={\"USA\":\"UMD\"},inplace=True)"
   ]
  },
  {
   "cell_type": "code",
   "execution_count": 67,
   "metadata": {},
   "outputs": [
    {
     "data": {
      "text/html": [
       "<div>\n",
       "<style scoped>\n",
       "    .dataframe tbody tr th:only-of-type {\n",
       "        vertical-align: middle;\n",
       "    }\n",
       "\n",
       "    .dataframe tbody tr th {\n",
       "        vertical-align: top;\n",
       "    }\n",
       "\n",
       "    .dataframe thead th {\n",
       "        text-align: right;\n",
       "    }\n",
       "</style>\n",
       "<table border=\"1\" class=\"dataframe\">\n",
       "  <thead>\n",
       "    <tr style=\"text-align: right;\">\n",
       "      <th></th>\n",
       "      <th>DATE</th>\n",
       "      <th>QMJ</th>\n",
       "      <th>MKT</th>\n",
       "      <th>SMB</th>\n",
       "      <th>HML</th>\n",
       "      <th>UMD</th>\n",
       "    </tr>\n",
       "  </thead>\n",
       "  <tbody>\n",
       "    <tr>\n",
       "      <th>0</th>\n",
       "      <td>07/01/1957</td>\n",
       "      <td>-0.001566</td>\n",
       "      <td>0.001784</td>\n",
       "      <td>-0.002166</td>\n",
       "      <td>0.001984</td>\n",
       "      <td>0.000651</td>\n",
       "    </tr>\n",
       "    <tr>\n",
       "      <th>1</th>\n",
       "      <td>07/02/1957</td>\n",
       "      <td>-0.000484</td>\n",
       "      <td>0.008514</td>\n",
       "      <td>-0.005030</td>\n",
       "      <td>-0.004436</td>\n",
       "      <td>0.002705</td>\n",
       "    </tr>\n",
       "    <tr>\n",
       "      <th>2</th>\n",
       "      <td>07/03/1957</td>\n",
       "      <td>0.000869</td>\n",
       "      <td>0.007938</td>\n",
       "      <td>-0.001245</td>\n",
       "      <td>-0.003676</td>\n",
       "      <td>0.002294</td>\n",
       "    </tr>\n",
       "    <tr>\n",
       "      <th>3</th>\n",
       "      <td>07/05/1957</td>\n",
       "      <td>0.001975</td>\n",
       "      <td>0.007755</td>\n",
       "      <td>-0.000769</td>\n",
       "      <td>-0.002781</td>\n",
       "      <td>-0.001137</td>\n",
       "    </tr>\n",
       "    <tr>\n",
       "      <th>4</th>\n",
       "      <td>07/08/1957</td>\n",
       "      <td>0.000965</td>\n",
       "      <td>0.003658</td>\n",
       "      <td>-0.002349</td>\n",
       "      <td>-0.004770</td>\n",
       "      <td>0.000742</td>\n",
       "    </tr>\n",
       "  </tbody>\n",
       "</table>\n",
       "</div>"
      ],
      "text/plain": [
       "         DATE       QMJ       MKT       SMB       HML       UMD\n",
       "0  07/01/1957 -0.001566  0.001784 -0.002166  0.001984  0.000651\n",
       "1  07/02/1957 -0.000484  0.008514 -0.005030 -0.004436  0.002705\n",
       "2  07/03/1957  0.000869  0.007938 -0.001245 -0.003676  0.002294\n",
       "3  07/05/1957  0.001975  0.007755 -0.000769 -0.002781 -0.001137\n",
       "4  07/08/1957  0.000965  0.003658 -0.002349 -0.004770  0.000742"
      ]
     },
     "execution_count": 67,
     "metadata": {},
     "output_type": "execute_result"
    }
   ],
   "source": [
    "X=[x2,x3,x4,x5]\n",
    "data=x1\n",
    "for xx in X:\n",
    "    data=pd.merge(data,xx,on='DATE')\n",
    "\n",
    "data.head()\n",
    "    \n",
    "    "
   ]
  },
  {
   "cell_type": "code",
   "execution_count": 68,
   "metadata": {},
   "outputs": [
    {
     "data": {
      "text/html": [
       "<div>\n",
       "<style scoped>\n",
       "    .dataframe tbody tr th:only-of-type {\n",
       "        vertical-align: middle;\n",
       "    }\n",
       "\n",
       "    .dataframe tbody tr th {\n",
       "        vertical-align: top;\n",
       "    }\n",
       "\n",
       "    .dataframe thead th {\n",
       "        text-align: right;\n",
       "    }\n",
       "</style>\n",
       "<table border=\"1\" class=\"dataframe\">\n",
       "  <thead>\n",
       "    <tr style=\"text-align: right;\">\n",
       "      <th></th>\n",
       "      <th>DATE</th>\n",
       "      <th>QMJ</th>\n",
       "      <th>MKT</th>\n",
       "      <th>SMB</th>\n",
       "      <th>HML</th>\n",
       "      <th>UMD</th>\n",
       "    </tr>\n",
       "  </thead>\n",
       "  <tbody>\n",
       "    <tr>\n",
       "      <th>0</th>\n",
       "      <td>1957-07-01</td>\n",
       "      <td>-0.001566</td>\n",
       "      <td>0.001784</td>\n",
       "      <td>-0.002166</td>\n",
       "      <td>0.001984</td>\n",
       "      <td>0.000651</td>\n",
       "    </tr>\n",
       "    <tr>\n",
       "      <th>1</th>\n",
       "      <td>1957-07-02</td>\n",
       "      <td>-0.000484</td>\n",
       "      <td>0.008514</td>\n",
       "      <td>-0.005030</td>\n",
       "      <td>-0.004436</td>\n",
       "      <td>0.002705</td>\n",
       "    </tr>\n",
       "    <tr>\n",
       "      <th>2</th>\n",
       "      <td>1957-07-03</td>\n",
       "      <td>0.000869</td>\n",
       "      <td>0.007938</td>\n",
       "      <td>-0.001245</td>\n",
       "      <td>-0.003676</td>\n",
       "      <td>0.002294</td>\n",
       "    </tr>\n",
       "    <tr>\n",
       "      <th>3</th>\n",
       "      <td>1957-07-05</td>\n",
       "      <td>0.001975</td>\n",
       "      <td>0.007755</td>\n",
       "      <td>-0.000769</td>\n",
       "      <td>-0.002781</td>\n",
       "      <td>-0.001137</td>\n",
       "    </tr>\n",
       "    <tr>\n",
       "      <th>4</th>\n",
       "      <td>1957-07-08</td>\n",
       "      <td>0.000965</td>\n",
       "      <td>0.003658</td>\n",
       "      <td>-0.002349</td>\n",
       "      <td>-0.004770</td>\n",
       "      <td>0.000742</td>\n",
       "    </tr>\n",
       "    <tr>\n",
       "      <th>...</th>\n",
       "      <td>...</td>\n",
       "      <td>...</td>\n",
       "      <td>...</td>\n",
       "      <td>...</td>\n",
       "      <td>...</td>\n",
       "      <td>...</td>\n",
       "    </tr>\n",
       "    <tr>\n",
       "      <th>16069</th>\n",
       "      <td>2020-01-27</td>\n",
       "      <td>-0.000060</td>\n",
       "      <td>-0.015002</td>\n",
       "      <td>0.002623</td>\n",
       "      <td>-0.003787</td>\n",
       "      <td>0.001516</td>\n",
       "    </tr>\n",
       "    <tr>\n",
       "      <th>16070</th>\n",
       "      <td>2020-01-28</td>\n",
       "      <td>-0.001326</td>\n",
       "      <td>0.009827</td>\n",
       "      <td>-0.001783</td>\n",
       "      <td>-0.004375</td>\n",
       "      <td>0.005535</td>\n",
       "    </tr>\n",
       "    <tr>\n",
       "      <th>16071</th>\n",
       "      <td>2020-01-29</td>\n",
       "      <td>-0.001279</td>\n",
       "      <td>-0.001363</td>\n",
       "      <td>-0.002856</td>\n",
       "      <td>-0.004012</td>\n",
       "      <td>0.007345</td>\n",
       "    </tr>\n",
       "    <tr>\n",
       "      <th>16072</th>\n",
       "      <td>2020-01-30</td>\n",
       "      <td>0.001254</td>\n",
       "      <td>0.002892</td>\n",
       "      <td>-0.006571</td>\n",
       "      <td>0.002776</td>\n",
       "      <td>0.000165</td>\n",
       "    </tr>\n",
       "    <tr>\n",
       "      <th>16073</th>\n",
       "      <td>2020-01-31</td>\n",
       "      <td>-0.005359</td>\n",
       "      <td>-0.017135</td>\n",
       "      <td>-0.002779</td>\n",
       "      <td>0.000335</td>\n",
       "      <td>-0.003351</td>\n",
       "    </tr>\n",
       "  </tbody>\n",
       "</table>\n",
       "<p>16074 rows × 6 columns</p>\n",
       "</div>"
      ],
      "text/plain": [
       "            DATE       QMJ       MKT       SMB       HML       UMD\n",
       "0     1957-07-01 -0.001566  0.001784 -0.002166  0.001984  0.000651\n",
       "1     1957-07-02 -0.000484  0.008514 -0.005030 -0.004436  0.002705\n",
       "2     1957-07-03  0.000869  0.007938 -0.001245 -0.003676  0.002294\n",
       "3     1957-07-05  0.001975  0.007755 -0.000769 -0.002781 -0.001137\n",
       "4     1957-07-08  0.000965  0.003658 -0.002349 -0.004770  0.000742\n",
       "...          ...       ...       ...       ...       ...       ...\n",
       "16069 2020-01-27 -0.000060 -0.015002  0.002623 -0.003787  0.001516\n",
       "16070 2020-01-28 -0.001326  0.009827 -0.001783 -0.004375  0.005535\n",
       "16071 2020-01-29 -0.001279 -0.001363 -0.002856 -0.004012  0.007345\n",
       "16072 2020-01-30  0.001254  0.002892 -0.006571  0.002776  0.000165\n",
       "16073 2020-01-31 -0.005359 -0.017135 -0.002779  0.000335 -0.003351\n",
       "\n",
       "[16074 rows x 6 columns]"
      ]
     },
     "execution_count": 68,
     "metadata": {},
     "output_type": "execute_result"
    }
   ],
   "source": [
    "data['DATE']=pd.to_datetime(data['DATE'])\n",
    "data"
   ]
  },
  {
   "cell_type": "code",
   "execution_count": 69,
   "metadata": {},
   "outputs": [
    {
     "data": {
      "text/html": [
       "<div>\n",
       "<style scoped>\n",
       "    .dataframe tbody tr th:only-of-type {\n",
       "        vertical-align: middle;\n",
       "    }\n",
       "\n",
       "    .dataframe tbody tr th {\n",
       "        vertical-align: top;\n",
       "    }\n",
       "\n",
       "    .dataframe thead th {\n",
       "        text-align: right;\n",
       "    }\n",
       "</style>\n",
       "<table border=\"1\" class=\"dataframe\">\n",
       "  <thead>\n",
       "    <tr style=\"text-align: right;\">\n",
       "      <th></th>\n",
       "      <th>DATE</th>\n",
       "      <th>QMJ</th>\n",
       "      <th>MKT</th>\n",
       "      <th>SMB</th>\n",
       "      <th>HML</th>\n",
       "      <th>UMD</th>\n",
       "      <th>QMJ_CumRet</th>\n",
       "      <th>MKT_CumRet</th>\n",
       "      <th>SMB_CumRet</th>\n",
       "      <th>HML_CumRet</th>\n",
       "      <th>UMD_CumRet</th>\n",
       "    </tr>\n",
       "  </thead>\n",
       "  <tbody>\n",
       "    <tr>\n",
       "      <th>0</th>\n",
       "      <td>1957-07-01</td>\n",
       "      <td>-0.001566</td>\n",
       "      <td>0.001784</td>\n",
       "      <td>-0.002166</td>\n",
       "      <td>0.001984</td>\n",
       "      <td>0.000651</td>\n",
       "      <td>-0.001566</td>\n",
       "      <td>0.001784</td>\n",
       "      <td>-0.002166</td>\n",
       "      <td>0.001984</td>\n",
       "      <td>0.000651</td>\n",
       "    </tr>\n",
       "    <tr>\n",
       "      <th>1</th>\n",
       "      <td>1957-07-02</td>\n",
       "      <td>-0.000484</td>\n",
       "      <td>0.008514</td>\n",
       "      <td>-0.005030</td>\n",
       "      <td>-0.004436</td>\n",
       "      <td>0.002705</td>\n",
       "      <td>-0.002049</td>\n",
       "      <td>0.010313</td>\n",
       "      <td>-0.007185</td>\n",
       "      <td>-0.002460</td>\n",
       "      <td>0.003358</td>\n",
       "    </tr>\n",
       "    <tr>\n",
       "      <th>2</th>\n",
       "      <td>1957-07-03</td>\n",
       "      <td>0.000869</td>\n",
       "      <td>0.007938</td>\n",
       "      <td>-0.001245</td>\n",
       "      <td>-0.003676</td>\n",
       "      <td>0.002294</td>\n",
       "      <td>-0.001182</td>\n",
       "      <td>0.018333</td>\n",
       "      <td>-0.008421</td>\n",
       "      <td>-0.006127</td>\n",
       "      <td>0.005659</td>\n",
       "    </tr>\n",
       "    <tr>\n",
       "      <th>3</th>\n",
       "      <td>1957-07-05</td>\n",
       "      <td>0.001975</td>\n",
       "      <td>0.007755</td>\n",
       "      <td>-0.000769</td>\n",
       "      <td>-0.002781</td>\n",
       "      <td>-0.001137</td>\n",
       "      <td>0.000791</td>\n",
       "      <td>0.026231</td>\n",
       "      <td>-0.009183</td>\n",
       "      <td>-0.008891</td>\n",
       "      <td>0.004516</td>\n",
       "    </tr>\n",
       "    <tr>\n",
       "      <th>4</th>\n",
       "      <td>1957-07-08</td>\n",
       "      <td>0.000965</td>\n",
       "      <td>0.003658</td>\n",
       "      <td>-0.002349</td>\n",
       "      <td>-0.004770</td>\n",
       "      <td>0.000742</td>\n",
       "      <td>0.001757</td>\n",
       "      <td>0.029985</td>\n",
       "      <td>-0.011511</td>\n",
       "      <td>-0.013619</td>\n",
       "      <td>0.005262</td>\n",
       "    </tr>\n",
       "    <tr>\n",
       "      <th>...</th>\n",
       "      <td>...</td>\n",
       "      <td>...</td>\n",
       "      <td>...</td>\n",
       "      <td>...</td>\n",
       "      <td>...</td>\n",
       "      <td>...</td>\n",
       "      <td>...</td>\n",
       "      <td>...</td>\n",
       "      <td>...</td>\n",
       "      <td>...</td>\n",
       "      <td>...</td>\n",
       "    </tr>\n",
       "    <tr>\n",
       "      <th>16069</th>\n",
       "      <td>2020-01-27</td>\n",
       "      <td>-0.000060</td>\n",
       "      <td>-0.015002</td>\n",
       "      <td>0.002623</td>\n",
       "      <td>-0.003787</td>\n",
       "      <td>0.001516</td>\n",
       "      <td>11.486911</td>\n",
       "      <td>24.979340</td>\n",
       "      <td>1.054563</td>\n",
       "      <td>3.500107</td>\n",
       "      <td>109.468954</td>\n",
       "    </tr>\n",
       "    <tr>\n",
       "      <th>16070</th>\n",
       "      <td>2020-01-28</td>\n",
       "      <td>-0.001326</td>\n",
       "      <td>0.009827</td>\n",
       "      <td>-0.001783</td>\n",
       "      <td>-0.004375</td>\n",
       "      <td>0.005535</td>\n",
       "      <td>11.470355</td>\n",
       "      <td>25.234631</td>\n",
       "      <td>1.050900</td>\n",
       "      <td>3.480419</td>\n",
       "      <td>110.080349</td>\n",
       "    </tr>\n",
       "    <tr>\n",
       "      <th>16071</th>\n",
       "      <td>2020-01-29</td>\n",
       "      <td>-0.001279</td>\n",
       "      <td>-0.001363</td>\n",
       "      <td>-0.002856</td>\n",
       "      <td>-0.004012</td>\n",
       "      <td>0.007345</td>\n",
       "      <td>11.454402</td>\n",
       "      <td>25.198860</td>\n",
       "      <td>1.045042</td>\n",
       "      <td>3.462446</td>\n",
       "      <td>110.896247</td>\n",
       "    </tr>\n",
       "    <tr>\n",
       "      <th>16072</th>\n",
       "      <td>2020-01-30</td>\n",
       "      <td>0.001254</td>\n",
       "      <td>0.002892</td>\n",
       "      <td>-0.006571</td>\n",
       "      <td>0.002776</td>\n",
       "      <td>0.000165</td>\n",
       "      <td>11.470024</td>\n",
       "      <td>25.274626</td>\n",
       "      <td>1.031604</td>\n",
       "      <td>3.474832</td>\n",
       "      <td>110.914663</td>\n",
       "    </tr>\n",
       "    <tr>\n",
       "      <th>16073</th>\n",
       "      <td>2020-01-31</td>\n",
       "      <td>-0.005359</td>\n",
       "      <td>-0.017135</td>\n",
       "      <td>-0.002779</td>\n",
       "      <td>0.000335</td>\n",
       "      <td>-0.003351</td>\n",
       "      <td>11.403202</td>\n",
       "      <td>24.824397</td>\n",
       "      <td>1.025957</td>\n",
       "      <td>3.476331</td>\n",
       "      <td>110.539606</td>\n",
       "    </tr>\n",
       "  </tbody>\n",
       "</table>\n",
       "<p>16074 rows × 11 columns</p>\n",
       "</div>"
      ],
      "text/plain": [
       "            DATE       QMJ       MKT       SMB       HML       UMD  \\\n",
       "0     1957-07-01 -0.001566  0.001784 -0.002166  0.001984  0.000651   \n",
       "1     1957-07-02 -0.000484  0.008514 -0.005030 -0.004436  0.002705   \n",
       "2     1957-07-03  0.000869  0.007938 -0.001245 -0.003676  0.002294   \n",
       "3     1957-07-05  0.001975  0.007755 -0.000769 -0.002781 -0.001137   \n",
       "4     1957-07-08  0.000965  0.003658 -0.002349 -0.004770  0.000742   \n",
       "...          ...       ...       ...       ...       ...       ...   \n",
       "16069 2020-01-27 -0.000060 -0.015002  0.002623 -0.003787  0.001516   \n",
       "16070 2020-01-28 -0.001326  0.009827 -0.001783 -0.004375  0.005535   \n",
       "16071 2020-01-29 -0.001279 -0.001363 -0.002856 -0.004012  0.007345   \n",
       "16072 2020-01-30  0.001254  0.002892 -0.006571  0.002776  0.000165   \n",
       "16073 2020-01-31 -0.005359 -0.017135 -0.002779  0.000335 -0.003351   \n",
       "\n",
       "       QMJ_CumRet  MKT_CumRet  SMB_CumRet  HML_CumRet  UMD_CumRet  \n",
       "0       -0.001566    0.001784   -0.002166    0.001984    0.000651  \n",
       "1       -0.002049    0.010313   -0.007185   -0.002460    0.003358  \n",
       "2       -0.001182    0.018333   -0.008421   -0.006127    0.005659  \n",
       "3        0.000791    0.026231   -0.009183   -0.008891    0.004516  \n",
       "4        0.001757    0.029985   -0.011511   -0.013619    0.005262  \n",
       "...           ...         ...         ...         ...         ...  \n",
       "16069   11.486911   24.979340    1.054563    3.500107  109.468954  \n",
       "16070   11.470355   25.234631    1.050900    3.480419  110.080349  \n",
       "16071   11.454402   25.198860    1.045042    3.462446  110.896247  \n",
       "16072   11.470024   25.274626    1.031604    3.474832  110.914663  \n",
       "16073   11.403202   24.824397    1.025957    3.476331  110.539606  \n",
       "\n",
       "[16074 rows x 11 columns]"
      ]
     },
     "execution_count": 69,
     "metadata": {},
     "output_type": "execute_result"
    }
   ],
   "source": [
    "for ind in data.columns[1:]:\n",
    "    data[f'{ind}_CumRet']=(data[ind]+1).cumprod()-1\n",
    "data"
   ]
  },
  {
   "cell_type": "code",
   "execution_count": 87,
   "metadata": {},
   "outputs": [
    {
     "data": {
      "text/plain": [
       "<AxesSubplot:xlabel='DATE', ylabel='cumulative returns'>"
      ]
     },
     "execution_count": 87,
     "metadata": {},
     "output_type": "execute_result"
    },
    {
     "data": {
      "image/png": "[encoded data removed]",
      "text/plain": [
       "<Figure size 864x576 with 1 Axes>"
      ]
     },
     "metadata": {
      "needs_background": "light"
     },
     "output_type": "display_data"
    }
   ],
   "source": [
    "\n",
    "plt.rcParams[\"figure.figsize\"] = (12,8)\n",
    "\n",
    "\n",
    "\n",
    "data.set_index('DATE').iloc[:,[5,6,7,8,9]].plot(ylabel='cumulative returns')"
   ]
  },
  {
   "cell_type": "code",
   "execution_count": 91,
   "metadata": {},
   "outputs": [
    {
     "data": {
      "text/plain": [
       "QMJ    0.672761\n",
       "MKT    0.417965\n",
       "SMB    0.191850\n",
       "HML    0.379840\n",
       "UMD    0.768127\n",
       "dtype: float64"
      ]
     },
     "execution_count": 91,
     "metadata": {},
     "output_type": "execute_result"
    }
   ],
   "source": [
    "data.set_index('DATE').iloc[:,[0,1,2,3,4]].mean()/data.set_index('DATE').iloc[:,[0,1,2,3,4]].std()*256**0.5"
   ]
  },
  {
   "cell_type": "code",
   "execution_count": 106,
   "metadata": {},
   "outputs": [
    {
     "name": "stdout",
     "output_type": "stream",
     "text": [
      "For Period:\n",
      "1957-07-01 00:00:00 1969-07-10 00:00:00\n",
      "QMJ    0.304687\n",
      "MKT    0.684856\n",
      "SMB    1.081781\n",
      "HML    0.652165\n",
      "UMD    1.412724\n",
      "dtype: float64\n",
      "For Period:\n",
      "1969-07-10 00:00:00 1981-05-27 00:00:00\n",
      "QMJ    0.437794\n",
      "MKT    0.113607\n",
      "SMB    0.433902\n",
      "HML    0.781450\n",
      "UMD    1.315895\n",
      "dtype: float64\n",
      "For Period:\n",
      "1981-05-27 00:00:00 1992-12-22 00:00:00\n",
      "QMJ    2.032046\n",
      "MKT    0.428313\n",
      "SMB   -0.256722\n",
      "HML    0.850544\n",
      "UMD    1.327716\n",
      "dtype: float64\n",
      "For Period:\n",
      "1992-12-22 00:00:00 2004-06-22 00:00:00\n",
      "QMJ    0.802896\n",
      "MKT    0.429229\n",
      "SMB    0.245373\n",
      "HML    0.499117\n",
      "UMD    0.868156\n",
      "dtype: float64\n",
      "For Period:\n",
      "2004-06-22 00:00:00 2015-12-22 00:00:00\n",
      "QMJ    0.451110\n",
      "MKT    0.393206\n",
      "SMB    0.075020\n",
      "HML   -0.126506\n",
      "UMD    0.215639\n",
      "dtype: float64\n",
      "For Period:\n",
      "2015-12-22 00:00:00 2020-01-31 00:00:00\n",
      "QMJ    0.636539\n",
      "MKT    0.970377\n",
      "SMB   -0.316117\n",
      "HML   -0.708449\n",
      "UMD    0.116115\n",
      "dtype: float64\n"
     ]
    }
   ],
   "source": [
    "for i in range(int(len(data)/3000)+1):\n",
    "    print(\"For Period:\")\n",
    "    print(data.iloc[i*3000,0],data.iloc[min(i*3000+3000,len(data)-1),0])\n",
    "    print(data.set_index('DATE').iloc[i*3000:min(i*3000+3000,len(data)-1),[0,1,2,3,4]].mean()/data.set_index('DATE').iloc[i*3000:min(i*3000+3000,len(data)-1),[0,1,2,3,4]].std()*256**0.5)"
   ]
  },
  {
   "cell_type": "code",
   "execution_count": 119,
   "metadata": {},
   "outputs": [
    {
     "data": {
      "text/html": [
       "<table class=\"simpletable\">\n",
       "<caption>OLS Regression Results</caption>\n",
       "<tr>\n",
       "  <th>Dep. Variable:</th>           <td>QMJ</td>       <th>  R-squared:         </th>  <td>   0.202</td> \n",
       "</tr>\n",
       "<tr>\n",
       "  <th>Model:</th>                   <td>OLS</td>       <th>  Adj. R-squared:    </th>  <td>   0.202</td> \n",
       "</tr>\n",
       "<tr>\n",
       "  <th>Method:</th>             <td>Least Squares</td>  <th>  F-statistic:       </th>  <td>   4080.</td> \n",
       "</tr>\n",
       "<tr>\n",
       "  <th>Date:</th>             <td>Tue, 17 May 2022</td> <th>  Prob (F-statistic):</th>   <td>  0.00</td>  \n",
       "</tr>\n",
       "<tr>\n",
       "  <th>Time:</th>                 <td>15:34:54</td>     <th>  Log-Likelihood:    </th>  <td>  68140.</td> \n",
       "</tr>\n",
       "<tr>\n",
       "  <th>No. Observations:</th>      <td> 16074</td>      <th>  AIC:               </th> <td>-1.363e+05</td>\n",
       "</tr>\n",
       "<tr>\n",
       "  <th>Df Residuals:</th>          <td> 16072</td>      <th>  BIC:               </th> <td>-1.363e+05</td>\n",
       "</tr>\n",
       "<tr>\n",
       "  <th>Df Model:</th>              <td>     1</td>      <th>                     </th>      <td> </td>    \n",
       "</tr>\n",
       "<tr>\n",
       "  <th>Covariance Type:</th>      <td>nonrobust</td>    <th>                     </th>      <td> </td>    \n",
       "</tr>\n",
       "</table>\n",
       "<table class=\"simpletable\">\n",
       "<tr>\n",
       "    <td></td>       <th>coef</th>     <th>std err</th>      <th>t</th>      <th>P>|t|</th>  <th>[0.025</th>    <th>0.975]</th>  \n",
       "</tr>\n",
       "<tr>\n",
       "  <th>const</th> <td>    0.0002</td> <td> 2.75e-05</td> <td>    7.635</td> <td> 0.000</td> <td>    0.000</td> <td>    0.000</td>\n",
       "</tr>\n",
       "<tr>\n",
       "  <th>MKT</th>   <td>   -0.1857</td> <td>    0.003</td> <td>  -63.871</td> <td> 0.000</td> <td>   -0.191</td> <td>   -0.180</td>\n",
       "</tr>\n",
       "</table>\n",
       "<table class=\"simpletable\">\n",
       "<tr>\n",
       "  <th>Omnibus:</th>       <td>2579.725</td> <th>  Durbin-Watson:     </th> <td>   1.884</td> \n",
       "</tr>\n",
       "<tr>\n",
       "  <th>Prob(Omnibus):</th>  <td> 0.000</td>  <th>  Jarque-Bera (JB):  </th> <td>47918.220</td>\n",
       "</tr>\n",
       "<tr>\n",
       "  <th>Skew:</th>           <td> 0.126</td>  <th>  Prob(JB):          </th> <td>    0.00</td> \n",
       "</tr>\n",
       "<tr>\n",
       "  <th>Kurtosis:</th>       <td>11.455</td>  <th>  Cond. No.          </th> <td>    106.</td> \n",
       "</tr>\n",
       "</table><br/><br/>Notes:<br/>[1] Standard Errors assume that the covariance matrix of the errors is correctly specified."
      ],
      "text/plain": [
       "<class 'statsmodels.iolib.summary.Summary'>\n",
       "\"\"\"\n",
       "                            OLS Regression Results                            \n",
       "==============================================================================\n",
       "Dep. Variable:                    QMJ   R-squared:                       0.202\n",
       "Model:                            OLS   Adj. R-squared:                  0.202\n",
       "Method:                 Least Squares   F-statistic:                     4080.\n",
       "Date:                Tue, 17 May 2022   Prob (F-statistic):               0.00\n",
       "Time:                        15:34:54   Log-Likelihood:                 68140.\n",
       "No. Observations:               16074   AIC:                        -1.363e+05\n",
       "Df Residuals:                   16072   BIC:                        -1.363e+05\n",
       "Df Model:                           1                                         \n",
       "Covariance Type:            nonrobust                                         \n",
       "==============================================================================\n",
       "                 coef    std err          t      P>|t|      [0.025      0.975]\n",
       "------------------------------------------------------------------------------\n",
       "const          0.0002   2.75e-05      7.635      0.000       0.000       0.000\n",
       "MKT           -0.1857      0.003    -63.871      0.000      -0.191      -0.180\n",
       "==============================================================================\n",
       "Omnibus:                     2579.725   Durbin-Watson:                   1.884\n",
       "Prob(Omnibus):                  0.000   Jarque-Bera (JB):            47918.220\n",
       "Skew:                           0.126   Prob(JB):                         0.00\n",
       "Kurtosis:                      11.455   Cond. No.                         106.\n",
       "==============================================================================\n",
       "\n",
       "Notes:\n",
       "[1] Standard Errors assume that the covariance matrix of the errors is correctly specified.\n",
       "\"\"\""
      ]
     },
     "execution_count": 119,
     "metadata": {},
     "output_type": "execute_result"
    }
   ],
   "source": [
    "X=sm.add_constant(data['MKT'])\n",
    "Y=data['QMJ']\n",
    "model1=sm.OLS(Y,X)\n",
    "model1.fit().summary()\n",
    "\n"
   ]
  },
  {
   "cell_type": "code",
   "execution_count": 120,
   "metadata": {},
   "outputs": [
    {
     "data": {
      "text/html": [
       "<table class=\"simpletable\">\n",
       "<caption>OLS Regression Results</caption>\n",
       "<tr>\n",
       "  <th>Dep. Variable:</th>           <td>SMB</td>       <th>  R-squared:         </th>  <td>   0.038</td> \n",
       "</tr>\n",
       "<tr>\n",
       "  <th>Model:</th>                   <td>OLS</td>       <th>  Adj. R-squared:    </th>  <td>   0.038</td> \n",
       "</tr>\n",
       "<tr>\n",
       "  <th>Method:</th>             <td>Least Squares</td>  <th>  F-statistic:       </th>  <td>   629.1</td> \n",
       "</tr>\n",
       "<tr>\n",
       "  <th>Date:</th>             <td>Tue, 17 May 2022</td> <th>  Prob (F-statistic):</th>  <td>3.28e-136</td>\n",
       "</tr>\n",
       "<tr>\n",
       "  <th>Time:</th>                 <td>15:35:25</td>     <th>  Log-Likelihood:    </th>  <td>  64307.</td> \n",
       "</tr>\n",
       "<tr>\n",
       "  <th>No. Observations:</th>      <td> 16074</td>      <th>  AIC:               </th> <td>-1.286e+05</td>\n",
       "</tr>\n",
       "<tr>\n",
       "  <th>Df Residuals:</th>          <td> 16072</td>      <th>  BIC:               </th> <td>-1.286e+05</td>\n",
       "</tr>\n",
       "<tr>\n",
       "  <th>Df Model:</th>              <td>     1</td>      <th>                     </th>      <td> </td>    \n",
       "</tr>\n",
       "<tr>\n",
       "  <th>Covariance Type:</th>      <td>nonrobust</td>    <th>                     </th>      <td> </td>    \n",
       "</tr>\n",
       "</table>\n",
       "<table class=\"simpletable\">\n",
       "<tr>\n",
       "    <td></td>       <th>coef</th>     <th>std err</th>      <th>t</th>      <th>P>|t|</th>  <th>[0.025</th>    <th>0.975]</th>  \n",
       "</tr>\n",
       "<tr>\n",
       "  <th>const</th> <td> 7.703e-05</td> <td> 3.49e-05</td> <td>    2.204</td> <td> 0.028</td> <td> 8.53e-06</td> <td>    0.000</td>\n",
       "</tr>\n",
       "<tr>\n",
       "  <th>MKT</th>   <td>   -0.0926</td> <td>    0.004</td> <td>  -25.081</td> <td> 0.000</td> <td>   -0.100</td> <td>   -0.085</td>\n",
       "</tr>\n",
       "</table>\n",
       "<table class=\"simpletable\">\n",
       "<tr>\n",
       "  <th>Omnibus:</th>       <td>4033.045</td> <th>  Durbin-Watson:     </th> <td>   1.839</td> \n",
       "</tr>\n",
       "<tr>\n",
       "  <th>Prob(Omnibus):</th>  <td> 0.000</td>  <th>  Jarque-Bera (JB):  </th> <td>98406.887</td>\n",
       "</tr>\n",
       "<tr>\n",
       "  <th>Skew:</th>           <td>-0.643</td>  <th>  Prob(JB):          </th> <td>    0.00</td> \n",
       "</tr>\n",
       "<tr>\n",
       "  <th>Kurtosis:</th>       <td>15.053</td>  <th>  Cond. No.          </th> <td>    106.</td> \n",
       "</tr>\n",
       "</table><br/><br/>Notes:<br/>[1] Standard Errors assume that the covariance matrix of the errors is correctly specified."
      ],
      "text/plain": [
       "<class 'statsmodels.iolib.summary.Summary'>\n",
       "\"\"\"\n",
       "                            OLS Regression Results                            \n",
       "==============================================================================\n",
       "Dep. Variable:                    SMB   R-squared:                       0.038\n",
       "Model:                            OLS   Adj. R-squared:                  0.038\n",
       "Method:                 Least Squares   F-statistic:                     629.1\n",
       "Date:                Tue, 17 May 2022   Prob (F-statistic):          3.28e-136\n",
       "Time:                        15:35:25   Log-Likelihood:                 64307.\n",
       "No. Observations:               16074   AIC:                        -1.286e+05\n",
       "Df Residuals:                   16072   BIC:                        -1.286e+05\n",
       "Df Model:                           1                                         \n",
       "Covariance Type:            nonrobust                                         \n",
       "==============================================================================\n",
       "                 coef    std err          t      P>|t|      [0.025      0.975]\n",
       "------------------------------------------------------------------------------\n",
       "const       7.703e-05   3.49e-05      2.204      0.028    8.53e-06       0.000\n",
       "MKT           -0.0926      0.004    -25.081      0.000      -0.100      -0.085\n",
       "==============================================================================\n",
       "Omnibus:                     4033.045   Durbin-Watson:                   1.839\n",
       "Prob(Omnibus):                  0.000   Jarque-Bera (JB):            98406.887\n",
       "Skew:                          -0.643   Prob(JB):                         0.00\n",
       "Kurtosis:                      15.053   Cond. No.                         106.\n",
       "==============================================================================\n",
       "\n",
       "Notes:\n",
       "[1] Standard Errors assume that the covariance matrix of the errors is correctly specified.\n",
       "\"\"\""
      ]
     },
     "execution_count": 120,
     "metadata": {},
     "output_type": "execute_result"
    }
   ],
   "source": [
    "X=sm.add_constant(data['MKT'])\n",
    "Y=data['SMB']\n",
    "model1=sm.OLS(Y,X)\n",
    "model1.fit().summary()\n",
    "\n"
   ]
  },
  {
   "cell_type": "code",
   "execution_count": 121,
   "metadata": {},
   "outputs": [
    {
     "data": {
      "text/html": [
       "<table class=\"simpletable\">\n",
       "<caption>OLS Regression Results</caption>\n",
       "<tr>\n",
       "  <th>Dep. Variable:</th>           <td>HML</td>       <th>  R-squared:         </th>  <td>   0.086</td> \n",
       "</tr>\n",
       "<tr>\n",
       "  <th>Model:</th>                   <td>OLS</td>       <th>  Adj. R-squared:    </th>  <td>   0.086</td> \n",
       "</tr>\n",
       "<tr>\n",
       "  <th>Method:</th>             <td>Least Squares</td>  <th>  F-statistic:       </th>  <td>   1522.</td> \n",
       "</tr>\n",
       "<tr>\n",
       "  <th>Date:</th>             <td>Tue, 17 May 2022</td> <th>  Prob (F-statistic):</th>  <td>4.23e-318</td>\n",
       "</tr>\n",
       "<tr>\n",
       "  <th>Time:</th>                 <td>15:35:40</td>     <th>  Log-Likelihood:    </th>  <td>  65430.</td> \n",
       "</tr>\n",
       "<tr>\n",
       "  <th>No. Observations:</th>      <td> 16074</td>      <th>  AIC:               </th> <td>-1.309e+05</td>\n",
       "</tr>\n",
       "<tr>\n",
       "  <th>Df Residuals:</th>          <td> 16072</td>      <th>  BIC:               </th> <td>-1.308e+05</td>\n",
       "</tr>\n",
       "<tr>\n",
       "  <th>Df Model:</th>              <td>     1</td>      <th>                     </th>      <td> </td>    \n",
       "</tr>\n",
       "<tr>\n",
       "  <th>Covariance Type:</th>      <td>nonrobust</td>    <th>                     </th>      <td> </td>    \n",
       "</tr>\n",
       "</table>\n",
       "<table class=\"simpletable\">\n",
       "<tr>\n",
       "    <td></td>       <th>coef</th>     <th>std err</th>      <th>t</th>      <th>P>|t|</th>  <th>[0.025</th>    <th>0.975]</th>  \n",
       "</tr>\n",
       "<tr>\n",
       "  <th>const</th> <td>    0.0001</td> <td> 3.26e-05</td> <td>    4.167</td> <td> 0.000</td> <td> 7.19e-05</td> <td>    0.000</td>\n",
       "</tr>\n",
       "<tr>\n",
       "  <th>MKT</th>   <td>   -0.1343</td> <td>    0.003</td> <td>  -39.008</td> <td> 0.000</td> <td>   -0.141</td> <td>   -0.128</td>\n",
       "</tr>\n",
       "</table>\n",
       "<table class=\"simpletable\">\n",
       "<tr>\n",
       "  <th>Omnibus:</th>       <td>2414.635</td> <th>  Durbin-Watson:     </th> <td>   1.744</td> \n",
       "</tr>\n",
       "<tr>\n",
       "  <th>Prob(Omnibus):</th>  <td> 0.000</td>  <th>  Jarque-Bera (JB):  </th> <td>40526.972</td>\n",
       "</tr>\n",
       "<tr>\n",
       "  <th>Skew:</th>           <td>-0.046</td>  <th>  Prob(JB):          </th> <td>    0.00</td> \n",
       "</tr>\n",
       "<tr>\n",
       "  <th>Kurtosis:</th>       <td>10.778</td>  <th>  Cond. No.          </th> <td>    106.</td> \n",
       "</tr>\n",
       "</table><br/><br/>Notes:<br/>[1] Standard Errors assume that the covariance matrix of the errors is correctly specified."
      ],
      "text/plain": [
       "<class 'statsmodels.iolib.summary.Summary'>\n",
       "\"\"\"\n",
       "                            OLS Regression Results                            \n",
       "==============================================================================\n",
       "Dep. Variable:                    HML   R-squared:                       0.086\n",
       "Model:                            OLS   Adj. R-squared:                  0.086\n",
       "Method:                 Least Squares   F-statistic:                     1522.\n",
       "Date:                Tue, 17 May 2022   Prob (F-statistic):          4.23e-318\n",
       "Time:                        15:35:40   Log-Likelihood:                 65430.\n",
       "No. Observations:               16074   AIC:                        -1.309e+05\n",
       "Df Residuals:                   16072   BIC:                        -1.308e+05\n",
       "Df Model:                           1                                         \n",
       "Covariance Type:            nonrobust                                         \n",
       "==============================================================================\n",
       "                 coef    std err          t      P>|t|      [0.025      0.975]\n",
       "------------------------------------------------------------------------------\n",
       "const          0.0001   3.26e-05      4.167      0.000    7.19e-05       0.000\n",
       "MKT           -0.1343      0.003    -39.008      0.000      -0.141      -0.128\n",
       "==============================================================================\n",
       "Omnibus:                     2414.635   Durbin-Watson:                   1.744\n",
       "Prob(Omnibus):                  0.000   Jarque-Bera (JB):            40526.972\n",
       "Skew:                          -0.046   Prob(JB):                         0.00\n",
       "Kurtosis:                      10.778   Cond. No.                         106.\n",
       "==============================================================================\n",
       "\n",
       "Notes:\n",
       "[1] Standard Errors assume that the covariance matrix of the errors is correctly specified.\n",
       "\"\"\""
      ]
     },
     "execution_count": 121,
     "metadata": {},
     "output_type": "execute_result"
    }
   ],
   "source": [
    "X=sm.add_constant(data['MKT'])\n",
    "Y=data['HML']\n",
    "model1=sm.OLS(Y,X)\n",
    "model1.fit().summary()\n",
    "\n"
   ]
  },
  {
   "cell_type": "code",
   "execution_count": 122,
   "metadata": {},
   "outputs": [
    {
     "data": {
      "text/html": [
       "<table class=\"simpletable\">\n",
       "<caption>OLS Regression Results</caption>\n",
       "<tr>\n",
       "  <th>Dep. Variable:</th>           <td>UMD</td>       <th>  R-squared:         </th>  <td>   0.011</td> \n",
       "</tr>\n",
       "<tr>\n",
       "  <th>Model:</th>                   <td>OLS</td>       <th>  Adj. R-squared:    </th>  <td>   0.011</td> \n",
       "</tr>\n",
       "<tr>\n",
       "  <th>Method:</th>             <td>Least Squares</td>  <th>  F-statistic:       </th>  <td>   184.5</td> \n",
       "</tr>\n",
       "<tr>\n",
       "  <th>Date:</th>             <td>Tue, 17 May 2022</td> <th>  Prob (F-statistic):</th>  <td>8.43e-42</td> \n",
       "</tr>\n",
       "<tr>\n",
       "  <th>Time:</th>                 <td>15:35:45</td>     <th>  Log-Likelihood:    </th>  <td>  58087.</td> \n",
       "</tr>\n",
       "<tr>\n",
       "  <th>No. Observations:</th>      <td> 16074</td>      <th>  AIC:               </th> <td>-1.162e+05</td>\n",
       "</tr>\n",
       "<tr>\n",
       "  <th>Df Residuals:</th>          <td> 16072</td>      <th>  BIC:               </th> <td>-1.162e+05</td>\n",
       "</tr>\n",
       "<tr>\n",
       "  <th>Df Model:</th>              <td>     1</td>      <th>                     </th>      <td> </td>    \n",
       "</tr>\n",
       "<tr>\n",
       "  <th>Covariance Type:</th>      <td>nonrobust</td>    <th>                     </th>      <td> </td>    \n",
       "</tr>\n",
       "</table>\n",
       "<table class=\"simpletable\">\n",
       "<tr>\n",
       "    <td></td>       <th>coef</th>     <th>std err</th>      <th>t</th>      <th>P>|t|</th>  <th>[0.025</th>    <th>0.975]</th>  \n",
       "</tr>\n",
       "<tr>\n",
       "  <th>const</th> <td>    0.0003</td> <td> 5.15e-05</td> <td>    6.474</td> <td> 0.000</td> <td>    0.000</td> <td>    0.000</td>\n",
       "</tr>\n",
       "<tr>\n",
       "  <th>MKT</th>   <td>   -0.0738</td> <td>    0.005</td> <td>  -13.584</td> <td> 0.000</td> <td>   -0.084</td> <td>   -0.063</td>\n",
       "</tr>\n",
       "</table>\n",
       "<table class=\"simpletable\">\n",
       "<tr>\n",
       "  <th>Omnibus:</th>       <td>4894.093</td> <th>  Durbin-Watson:     </th>  <td>   1.651</td> \n",
       "</tr>\n",
       "<tr>\n",
       "  <th>Prob(Omnibus):</th>  <td> 0.000</td>  <th>  Jarque-Bera (JB):  </th> <td>581068.735</td>\n",
       "</tr>\n",
       "<tr>\n",
       "  <th>Skew:</th>           <td>-0.380</td>  <th>  Prob(JB):          </th>  <td>    0.00</td> \n",
       "</tr>\n",
       "<tr>\n",
       "  <th>Kurtosis:</th>       <td>32.445</td>  <th>  Cond. No.          </th>  <td>    106.</td> \n",
       "</tr>\n",
       "</table><br/><br/>Notes:<br/>[1] Standard Errors assume that the covariance matrix of the errors is correctly specified."
      ],
      "text/plain": [
       "<class 'statsmodels.iolib.summary.Summary'>\n",
       "\"\"\"\n",
       "                            OLS Regression Results                            \n",
       "==============================================================================\n",
       "Dep. Variable:                    UMD   R-squared:                       0.011\n",
       "Model:                            OLS   Adj. R-squared:                  0.011\n",
       "Method:                 Least Squares   F-statistic:                     184.5\n",
       "Date:                Tue, 17 May 2022   Prob (F-statistic):           8.43e-42\n",
       "Time:                        15:35:45   Log-Likelihood:                 58087.\n",
       "No. Observations:               16074   AIC:                        -1.162e+05\n",
       "Df Residuals:                   16072   BIC:                        -1.162e+05\n",
       "Df Model:                           1                                         \n",
       "Covariance Type:            nonrobust                                         \n",
       "==============================================================================\n",
       "                 coef    std err          t      P>|t|      [0.025      0.975]\n",
       "------------------------------------------------------------------------------\n",
       "const          0.0003   5.15e-05      6.474      0.000       0.000       0.000\n",
       "MKT           -0.0738      0.005    -13.584      0.000      -0.084      -0.063\n",
       "==============================================================================\n",
       "Omnibus:                     4894.093   Durbin-Watson:                   1.651\n",
       "Prob(Omnibus):                  0.000   Jarque-Bera (JB):           581068.735\n",
       "Skew:                          -0.380   Prob(JB):                         0.00\n",
       "Kurtosis:                      32.445   Cond. No.                         106.\n",
       "==============================================================================\n",
       "\n",
       "Notes:\n",
       "[1] Standard Errors assume that the covariance matrix of the errors is correctly specified.\n",
       "\"\"\""
      ]
     },
     "execution_count": 122,
     "metadata": {},
     "output_type": "execute_result"
    }
   ],
   "source": [
    "X=sm.add_constant(data['MKT'])\n",
    "Y=data['UMD']\n",
    "model1=sm.OLS(Y,X)\n",
    "model1.fit().summary()\n",
    "\n"
   ]
  },
  {
   "cell_type": "code",
   "execution_count": 123,
   "metadata": {},
   "outputs": [
    {
     "data": {
      "text/html": [
       "<table class=\"simpletable\">\n",
       "<caption>OLS Regression Results</caption>\n",
       "<tr>\n",
       "  <th>Dep. Variable:</th>           <td>MKT</td>       <th>  R-squared:         </th>  <td>   0.442</td> \n",
       "</tr>\n",
       "<tr>\n",
       "  <th>Model:</th>                   <td>OLS</td>       <th>  Adj. R-squared:    </th>  <td>   0.442</td> \n",
       "</tr>\n",
       "<tr>\n",
       "  <th>Method:</th>             <td>Least Squares</td>  <th>  F-statistic:       </th>  <td>   3186.</td> \n",
       "</tr>\n",
       "<tr>\n",
       "  <th>Date:</th>             <td>Tue, 17 May 2022</td> <th>  Prob (F-statistic):</th>   <td>  0.00</td>  \n",
       "</tr>\n",
       "<tr>\n",
       "  <th>Time:</th>                 <td>15:39:42</td>     <th>  Log-Likelihood:    </th>  <td>  56792.</td> \n",
       "</tr>\n",
       "<tr>\n",
       "  <th>No. Observations:</th>      <td> 16074</td>      <th>  AIC:               </th> <td>-1.136e+05</td>\n",
       "</tr>\n",
       "<tr>\n",
       "  <th>Df Residuals:</th>          <td> 16069</td>      <th>  BIC:               </th> <td>-1.135e+05</td>\n",
       "</tr>\n",
       "<tr>\n",
       "  <th>Df Model:</th>              <td>     4</td>      <th>                     </th>      <td> </td>    \n",
       "</tr>\n",
       "<tr>\n",
       "  <th>Covariance Type:</th>      <td>nonrobust</td>    <th>                     </th>      <td> </td>    \n",
       "</tr>\n",
       "</table>\n",
       "<table class=\"simpletable\">\n",
       "<tr>\n",
       "    <td></td>       <th>coef</th>     <th>std err</th>      <th>t</th>      <th>P>|t|</th>  <th>[0.025</th>    <th>0.975]</th>  \n",
       "</tr>\n",
       "<tr>\n",
       "  <th>const</th> <td>    0.0006</td> <td> 5.59e-05</td> <td>   10.873</td> <td> 0.000</td> <td>    0.000</td> <td>    0.001</td>\n",
       "</tr>\n",
       "<tr>\n",
       "  <th>QMJ</th>   <td>   -1.4327</td> <td>    0.015</td> <td>  -92.514</td> <td> 0.000</td> <td>   -1.463</td> <td>   -1.402</td>\n",
       "</tr>\n",
       "<tr>\n",
       "  <th>SMB</th>   <td>   -0.6354</td> <td>    0.013</td> <td>  -50.147</td> <td> 0.000</td> <td>   -0.660</td> <td>   -0.611</td>\n",
       "</tr>\n",
       "<tr>\n",
       "  <th>HML</th>   <td>   -0.8721</td> <td>    0.013</td> <td>  -65.704</td> <td> 0.000</td> <td>   -0.898</td> <td>   -0.846</td>\n",
       "</tr>\n",
       "<tr>\n",
       "  <th>UMD</th>   <td>   -0.0040</td> <td>    0.009</td> <td>   -0.448</td> <td> 0.654</td> <td>   -0.022</td> <td>    0.014</td>\n",
       "</tr>\n",
       "</table>\n",
       "<table class=\"simpletable\">\n",
       "<tr>\n",
       "  <th>Omnibus:</th>       <td>3490.320</td> <th>  Durbin-Watson:     </th>  <td>   1.857</td> \n",
       "</tr>\n",
       "<tr>\n",
       "  <th>Prob(Omnibus):</th>  <td> 0.000</td>  <th>  Jarque-Bera (JB):  </th> <td>129313.911</td>\n",
       "</tr>\n",
       "<tr>\n",
       "  <th>Skew:</th>           <td>-0.251</td>  <th>  Prob(JB):          </th>  <td>    0.00</td> \n",
       "</tr>\n",
       "<tr>\n",
       "  <th>Kurtosis:</th>       <td>16.886</td>  <th>  Cond. No.          </th>  <td>    296.</td> \n",
       "</tr>\n",
       "</table><br/><br/>Notes:<br/>[1] Standard Errors assume that the covariance matrix of the errors is correctly specified."
      ],
      "text/plain": [
       "<class 'statsmodels.iolib.summary.Summary'>\n",
       "\"\"\"\n",
       "                            OLS Regression Results                            \n",
       "==============================================================================\n",
       "Dep. Variable:                    MKT   R-squared:                       0.442\n",
       "Model:                            OLS   Adj. R-squared:                  0.442\n",
       "Method:                 Least Squares   F-statistic:                     3186.\n",
       "Date:                Tue, 17 May 2022   Prob (F-statistic):               0.00\n",
       "Time:                        15:39:42   Log-Likelihood:                 56792.\n",
       "No. Observations:               16074   AIC:                        -1.136e+05\n",
       "Df Residuals:                   16069   BIC:                        -1.135e+05\n",
       "Df Model:                           4                                         \n",
       "Covariance Type:            nonrobust                                         \n",
       "==============================================================================\n",
       "                 coef    std err          t      P>|t|      [0.025      0.975]\n",
       "------------------------------------------------------------------------------\n",
       "const          0.0006   5.59e-05     10.873      0.000       0.000       0.001\n",
       "QMJ           -1.4327      0.015    -92.514      0.000      -1.463      -1.402\n",
       "SMB           -0.6354      0.013    -50.147      0.000      -0.660      -0.611\n",
       "HML           -0.8721      0.013    -65.704      0.000      -0.898      -0.846\n",
       "UMD           -0.0040      0.009     -0.448      0.654      -0.022       0.014\n",
       "==============================================================================\n",
       "Omnibus:                     3490.320   Durbin-Watson:                   1.857\n",
       "Prob(Omnibus):                  0.000   Jarque-Bera (JB):           129313.911\n",
       "Skew:                          -0.251   Prob(JB):                         0.00\n",
       "Kurtosis:                      16.886   Cond. No.                         296.\n",
       "==============================================================================\n",
       "\n",
       "Notes:\n",
       "[1] Standard Errors assume that the covariance matrix of the errors is correctly specified.\n",
       "\"\"\""
      ]
     },
     "execution_count": 123,
     "metadata": {},
     "output_type": "execute_result"
    }
   ],
   "source": [
    "X=sm.add_constant(data[['QMJ','SMB','HML','UMD']])\n",
    "Y=data['MKT']\n",
    "model1=sm.OLS(Y,X)\n",
    "model1.fit().summary()"
   ]
  },
  {
   "cell_type": "code",
   "execution_count": 124,
   "metadata": {},
   "outputs": [
    {
     "data": {
      "text/plain": [
       "const    0.000608\n",
       "QMJ     -1.432707\n",
       "SMB     -0.635388\n",
       "HML     -0.872128\n",
       "UMD     -0.004034\n",
       "dtype: float64"
      ]
     },
     "execution_count": 124,
     "metadata": {},
     "output_type": "execute_result"
    }
   ],
   "source": [
    "model1.fit().params"
   ]
  },
  {
   "cell_type": "code",
   "execution_count": 135,
   "metadata": {},
   "outputs": [
    {
     "name": "stderr",
     "output_type": "stream",
     "text": [
      "/Users/Ben/anaconda3/lib/python3.7/site-packages/ipykernel_launcher.py:2: SettingWithCopyWarning: \n",
      "A value is trying to be set on a copy of a slice from a DataFrame.\n",
      "Try using .loc[row_indexer,col_indexer] = value instead\n",
      "\n",
      "See the caveats in the documentation: https://pandas.pydata.org/pandas-docs/stable/user_guide/indexing.html#returning-a-view-versus-a-copy\n",
      "  \n",
      "/Users/Ben/anaconda3/lib/python3.7/site-packages/ipykernel_launcher.py:3: SettingWithCopyWarning: \n",
      "A value is trying to be set on a copy of a slice from a DataFrame.\n",
      "Try using .loc[row_indexer,col_indexer] = value instead\n",
      "\n",
      "See the caveats in the documentation: https://pandas.pydata.org/pandas-docs/stable/user_guide/indexing.html#returning-a-view-versus-a-copy\n",
      "  This is separate from the ipykernel package so we can avoid doing imports until\n"
     ]
    }
   ],
   "source": [
    "rets_st1=data[['DATE']]\n",
    "rets_st1['ret_st1']=0\n",
    "rets_st1['ret_st1']=data['MKT']- np.dot(data[['QMJ','SMB','HML','UMD']],model1.fit().params[1:])\n"
   ]
  },
  {
   "cell_type": "code",
   "execution_count": 139,
   "metadata": {},
   "outputs": [
    {
     "data": {
      "text/plain": [
       "<AxesSubplot:xlabel='DATE'>"
      ]
     },
     "execution_count": 139,
     "metadata": {},
     "output_type": "execute_result"
    },
    {
     "data": {
      "image/png": "[encoded data removed]",
      "text/plain": [
       "<Figure size 864x576 with 1 Axes>"
      ]
     },
     "metadata": {
      "needs_background": "light"
     },
     "output_type": "display_data"
    }
   ],
   "source": [
    "data['rets_st1']=rets_st1['ret_st1']\n",
    "((data.set_index('DATE')[['rets_st1']]+1).cumprod()-1).plot(logy=True)"
   ]
  },
  {
   "cell_type": "code",
   "execution_count": 137,
   "metadata": {},
   "outputs": [
    {
     "data": {
      "text/plain": [
       "1.3730047990296788"
      ]
     },
     "execution_count": 137,
     "metadata": {},
     "output_type": "execute_result"
    }
   ],
   "source": [
    "data['rets_st1'].mean()/data['rets_st1'].std()*255**0.5"
   ]
  },
  {
   "cell_type": "code",
   "execution_count": 140,
   "metadata": {},
   "outputs": [
    {
     "data": {
      "text/plain": [
       "0.15498299384000977"
      ]
     },
     "execution_count": 140,
     "metadata": {},
     "output_type": "execute_result"
    }
   ],
   "source": [
    "data['rets_st1'].mean()*255"
   ]
  },
  {
   "cell_type": "code",
   "execution_count": 141,
   "metadata": {},
   "outputs": [
    {
     "data": {
      "text/plain": [
       "-2.944256230042213"
      ]
     },
     "execution_count": 141,
     "metadata": {},
     "output_type": "execute_result"
    }
   ],
   "source": [
    "sum(model1.fit().params[1:])"
   ]
  },
  {
   "cell_type": "code",
   "execution_count": 142,
   "metadata": {},
   "outputs": [
    {
     "data": {
      "text/plain": [
       "QMJ   -1.432707\n",
       "SMB   -0.635388\n",
       "HML   -0.872128\n",
       "UMD   -0.004034\n",
       "dtype: float64"
      ]
     },
     "execution_count": 142,
     "metadata": {},
     "output_type": "execute_result"
    }
   ],
   "source": [
    "model1.fit().params[1:]"
   ]
  },
  {
   "cell_type": "code",
   "execution_count": 145,
   "metadata": {},
   "outputs": [],
   "source": [
    "from sklearn.linear_model import LassoCV\n",
    "reg = LassoCV(cv=5, random_state=0).fit(data[['QMJ','SMB','HML','UMD']], data['MKT'])"
   ]
  },
  {
   "cell_type": "code",
   "execution_count": 152,
   "metadata": {},
   "outputs": [
    {
     "data": {
      "text/plain": [
       "0.4409752616134066"
      ]
     },
     "execution_count": 152,
     "metadata": {},
     "output_type": "execute_result"
    }
   ],
   "source": [
    "reg.score(data[['QMJ','SMB','HML','UMD']],data['MKT'])"
   ]
  },
  {
   "cell_type": "code",
   "execution_count": 153,
   "metadata": {},
   "outputs": [
    {
     "data": {
      "text/plain": [
       "array([-1.36556565, -0.58970893, -0.82250133, -0.        ])"
      ]
     },
     "execution_count": 153,
     "metadata": {},
     "output_type": "execute_result"
    }
   ],
   "source": [
    "reg.coef_"
   ]
  },
  {
   "cell_type": "code",
   "execution_count": 160,
   "metadata": {},
   "outputs": [
    {
     "name": "stderr",
     "output_type": "stream",
     "text": [
      "/Users/Ben/anaconda3/lib/python3.7/site-packages/ipykernel_launcher.py:2: SettingWithCopyWarning: \n",
      "A value is trying to be set on a copy of a slice from a DataFrame.\n",
      "Try using .loc[row_indexer,col_indexer] = value instead\n",
      "\n",
      "See the caveats in the documentation: https://pandas.pydata.org/pandas-docs/stable/user_guide/indexing.html#returning-a-view-versus-a-copy\n",
      "  \n",
      "/Users/Ben/anaconda3/lib/python3.7/site-packages/ipykernel_launcher.py:3: SettingWithCopyWarning: \n",
      "A value is trying to be set on a copy of a slice from a DataFrame.\n",
      "Try using .loc[row_indexer,col_indexer] = value instead\n",
      "\n",
      "See the caveats in the documentation: https://pandas.pydata.org/pandas-docs/stable/user_guide/indexing.html#returning-a-view-versus-a-copy\n",
      "  This is separate from the ipykernel package so we can avoid doing imports until\n"
     ]
    }
   ],
   "source": [
    "rets_st2=data[['DATE']]\n",
    "rets_st2['ret_st2']=0\n",
    "rets_st2['ret_st2']=data['MKT']- np.dot(data[['QMJ','SMB','HML','UMD']],reg.coef_)\n",
    "\n"
   ]
  },
  {
   "cell_type": "code",
   "execution_count": 161,
   "metadata": {},
   "outputs": [
    {
     "data": {
      "text/plain": [
       "1.326554052829166"
      ]
     },
     "execution_count": 161,
     "metadata": {},
     "output_type": "execute_result"
    },
    {
     "data": {
      "image/png": "[encoded data removed]",
      "text/plain": [
       "<Figure size 864x576 with 1 Axes>"
      ]
     },
     "metadata": {
      "needs_background": "light"
     },
     "output_type": "display_data"
    }
   ],
   "source": [
    "data['rets_st2']=rets_st2['ret_st2']\n",
    "((data.set_index('DATE')[['rets_st2']]+1).cumprod()-1).plot(logy=True)\n",
    "data['rets_st2'].mean()/data['rets_st2'].std()*255**0.5"
   ]
  },
  {
   "cell_type": "code",
   "execution_count": 163,
   "metadata": {},
   "outputs": [
    {
     "name": "stdout",
     "output_type": "stream",
     "text": [
      "0.3922864355696981\n"
     ]
    }
   ],
   "source": [
    "from sklearn.linear_model import RidgeCV\n",
    "reg2 = RidgeCV(cv=5).fit(data[['QMJ','SMB','HML','UMD']], data['MKT'])\n",
    "print(reg2.score(data[['QMJ','SMB','HML','UMD']],data['MKT']))"
   ]
  },
  {
   "cell_type": "code",
   "execution_count": 164,
   "metadata": {},
   "outputs": [
    {
     "data": {
      "text/plain": [
       "array([-0.92178859, -0.42286663, -0.60336707, -0.05450553])"
      ]
     },
     "execution_count": 164,
     "metadata": {},
     "output_type": "execute_result"
    }
   ],
   "source": [
    "reg2.coef_"
   ]
  },
  {
   "cell_type": "code",
   "execution_count": 165,
   "metadata": {},
   "outputs": [
    {
     "name": "stderr",
     "output_type": "stream",
     "text": [
      "/Users/Ben/anaconda3/lib/python3.7/site-packages/ipykernel_launcher.py:2: SettingWithCopyWarning: \n",
      "A value is trying to be set on a copy of a slice from a DataFrame.\n",
      "Try using .loc[row_indexer,col_indexer] = value instead\n",
      "\n",
      "See the caveats in the documentation: https://pandas.pydata.org/pandas-docs/stable/user_guide/indexing.html#returning-a-view-versus-a-copy\n",
      "  \n",
      "/Users/Ben/anaconda3/lib/python3.7/site-packages/ipykernel_launcher.py:3: SettingWithCopyWarning: \n",
      "A value is trying to be set on a copy of a slice from a DataFrame.\n",
      "Try using .loc[row_indexer,col_indexer] = value instead\n",
      "\n",
      "See the caveats in the documentation: https://pandas.pydata.org/pandas-docs/stable/user_guide/indexing.html#returning-a-view-versus-a-copy\n",
      "  This is separate from the ipykernel package so we can avoid doing imports until\n"
     ]
    },
    {
     "data": {
      "text/plain": [
       "1.0834722492622577"
      ]
     },
     "execution_count": 165,
     "metadata": {},
     "output_type": "execute_result"
    },
    {
     "data": {
      "image/png": "[encoded data removed]",
      "text/plain": [
       "<Figure size 864x576 with 1 Axes>"
      ]
     },
     "metadata": {
      "needs_background": "light"
     },
     "output_type": "display_data"
    }
   ],
   "source": [
    "rets_st3=data[['DATE']]\n",
    "rets_st3['ret_st3']=0\n",
    "rets_st3['ret_st3']=data['MKT']- np.dot(data[['QMJ','SMB','HML','UMD']],reg2.coef_)\n",
    "\n",
    "data['rets_st3']=rets_st3['ret_st3']\n",
    "((data.set_index('DATE')[['rets_st3']]+1).cumprod()-1).plot(logy=True)\n",
    "data['rets_st3'].mean()/data['rets_st3'].std()*255**0.5\n"
   ]
  },
  {
   "cell_type": "code",
   "execution_count": null,
   "metadata": {},
   "outputs": [],
   "source": []
  }
 ],
 "metadata": {
  "interpreter": {
   "hash": "cd9de6fb66cd1fc0cdb96b77289a0095832266e26bce926abc6aa942177bb457"
  },
  "kernelspec": {
   "display_name": "Python 3.7.4 ('base')",
   "language": "python",
   "name": "python3"
  },
  "language_info": {
   "codemirror_mode": {
    "name": "ipython",
    "version": 3
   },
   "file_extension": ".py",
   "mimetype": "text/x-python",
   "name": "python",
   "nbconvert_exporter": "python",
   "pygments_lexer": "ipython3",
   "version": "3.7.4"
  },
  "orig_nbformat": 4
 },
 "nbformat": 4,
 "nbformat_minor": 2
}
